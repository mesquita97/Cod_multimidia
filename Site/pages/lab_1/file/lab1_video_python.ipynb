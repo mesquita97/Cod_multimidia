{
 "cells": [
  {
   "cell_type": "markdown",
   "metadata": {},
   "source": [
    "# ESTI019-17 - Codificação de Sinais Multimídia\n",
    "\n",
    "## Roteiro 01 - Captura de Video\n",
    "\n",
    "\n",
    "### <font color='green'>Prof. Celso Kurashima</font>\n",
    "\n",
    "### <font color='green'>Prof. Mario Minami</font>\n",
    "\n",
    "### <font color='blue'><u>04 de outubro de 2019</u></font>\n",
    "\n"
   ]
  },
  {
   "cell_type": "markdown",
   "metadata": {},
   "source": [
    "### Identificação do Aluno"
   ]
  },
  {
   "cell_type": "markdown",
   "metadata": {},
   "source": [
    "#### Nome Completo"
   ]
  },
  {
   "cell_type": "raw",
   "metadata": {},
   "source": [
    "Wellington Araujo Nogueira\n",
    "Thiago Panini\n",
    "Rodrigo Hiroaki\n",
    "Gabriel Mesquita"
   ]
  },
  {
   "cell_type": "markdown",
   "metadata": {},
   "source": [
    "#### RA"
   ]
  },
  {
   "cell_type": "markdown",
   "metadata": {},
   "source": [
    "11075113"
   ]
  },
  {
   "cell_type": "markdown",
   "metadata": {},
   "source": [
    "## <font color='blue'><u>**Atividades em Aula - Parte 01**</u></font>\n",
    "\n",
    "1. No seu diretório **\"Documentos\"**, crie uma pasta com seu primeiro nome e uma sub-pasta **\"lab1\"**.\n",
    "\n",
    "2. Dentro desta pasta, copie todos arquivos fornecidos, incluindo os videos e imagens,\n",
    "\n",
    "3. Entre no **jupyter notebook** e abra o arquivo de programa fornecido em python: **lab1_video_python.ipynb**.\n",
    "\n",
    "4. Siga as instruções a seguir."
   ]
  },
  {
   "cell_type": "markdown",
   "metadata": {},
   "source": [
    "### <font color='red'>1: Compilar e executar um programa OpenCV<font>\n",
    "\n",
    "* O código abaixo realiza a leitura de um arquivo de **imagem** e mostra numa janela. Estude passo a passo os comandos."
   ]
  },
  {
   "cell_type": "code",
   "execution_count": 1,
   "metadata": {
    "ExecuteTime": {
     "end_time": "2019-10-16T21:51:28.839553Z",
     "start_time": "2019-10-16T21:51:15.029553Z"
    }
   },
   "outputs": [],
   "source": [
    "# Estude este código e Execute \n",
    "# (clique em \"Run\", com esta célula selecionada)\n",
    "import numpy as np\n",
    "import cv2 as cv\n",
    "\n",
    "# Leitura e apresentação de uma imagem\n",
    "img = cv.imread('messi5.jpg')\n",
    "cv.imshow('Imagem',img)\n",
    "\n",
    "k = cv.waitKey(0)\n",
    "\n",
    "# Aperte a tecla ESC para sair e fechar o programa\n",
    "\n",
    "if k == 27:         \n",
    "    cv.destroyAllWindows()"
   ]
  },
  {
   "cell_type": "markdown",
   "metadata": {},
   "source": [
    "* O código abaixo realiza a leitura de um arquivo de imagem e mostra na mesma tela.\n",
    "\n",
    "* O código obtém a resolução da imagem em pixels, e imprime o valor na tela.\n",
    "\n",
    "* (OBS.: execute duas vezes o mesmo código, caso a imagem não apareça na primeira vez.)"
   ]
  },
  {
   "cell_type": "code",
   "execution_count": 4,
   "metadata": {
    "ExecuteTime": {
     "end_time": "2019-10-16T22:28:00.173053Z",
     "start_time": "2019-10-16T22:27:59.433053Z"
    }
   },
   "outputs": [
    {
     "name": "stdout",
     "output_type": "stream",
     "text": [
      "Resolução:  548  x  342  PIXELS.  3  camadas.\n"
     ]
    },
    {
     "data": {
      "text/plain": [
       "<Figure size 640x480 with 1 Axes>"
      ]
     },
     "metadata": {},
     "output_type": "display_data"
    }
   ],
   "source": [
    "# Estude este código e Execute \n",
    "# (clique em \"Run\", com esta célula selecionada)\n",
    "from matplotlib import pyplot as plt\n",
    "import numpy as np\n",
    "import cv2 as cv\n",
    "import time\n",
    "\n",
    "# Leitura da imagem e obtenção da sua resolução\n",
    "imgmessi = cv.imread('messi5.jpg')\n",
    "altura,largura,camadas= imgmessi.shape\n",
    "print(\"Resolução: \", largura, \" x \", altura, \" PIXELS. \", camadas, \" camadas.\")\n",
    "\n",
    "# Mostra a imagem como gráfico do tipo \"plot\"\n",
    "plt.imshow(imgmessi)\n",
    "plt.xticks([]), plt.yticks([])\n",
    "plt.show()"
   ]
  },
  {
   "cell_type": "markdown",
   "metadata": {},
   "source": [
    "* Agora, passe para o próximo código."
   ]
  },
  {
   "cell_type": "markdown",
   "metadata": {},
   "source": [
    "### <font color='red'>2. Leitura de um arquivo de vídeo:</font>\n",
    "\n",
    "* Esse código realiza a leitura de um vídeo gravado em arquivo e mostra o vídeo em uma nova janela.\n",
    "\n",
    "* Observe e modifique a taxa de quadros do video no código.\n",
    "\n",
    "* Observe e modifique a \"escala\", isto é a resolução da imagem, no código."
   ]
  },
  {
   "cell_type": "code",
   "execution_count": 6,
   "metadata": {
    "ExecuteTime": {
     "end_time": "2019-10-16T21:54:32.576053Z",
     "start_time": "2019-10-16T21:54:32.566053Z"
    }
   },
   "outputs": [],
   "source": [
    "import os\n",
    "os.chdir(r\"C:\\Users\\drt44888\\Documents\\Lab_Multimidia\\lab1\")"
   ]
  },
  {
   "cell_type": "code",
   "execution_count": 47,
   "metadata": {
    "ExecuteTime": {
     "end_time": "2019-10-17T01:47:52.543500Z",
     "start_time": "2019-10-17T01:46:40.848500Z"
    },
    "scrolled": true
   },
   "outputs": [
    {
     "name": "stdout",
     "output_type": "stream",
     "text": [
      "Resolução  original:  640  x  360  PIXELS. \n",
      "Resolução modificada:  640  x  360  PIXELS. \n",
      "Tempo total: 71.62 segundos.\n"
     ]
    }
   ],
   "source": [
    "import time\n",
    "import numpy as np\n",
    "import cv2 as cv\n",
    "\n",
    "# QPS = taxa do video. Digite o valor\n",
    "QPS =  25\n",
    "\n",
    "# Escala da resolução do video\n",
    "ESCALA = 1\n",
    "\n",
    "# Objeto que indica o arquivo de video a ser lido\n",
    "cap = cv.VideoCapture('big_buck_bunny.mp4')\n",
    "\n",
    "# Inicia a marcação de tempo\n",
    "start_time = time.time()\n",
    "\n",
    "while(cap.isOpened()):\n",
    "    # leitura da imagem no video\n",
    "    ret, imagem = cap.read()\n",
    "    \n",
    "    if ret==True:\n",
    "        # redimensiona a imagem multimplicando a largura e altura pela Escala\n",
    "        img_nova = cv.resize(imagem,None,fx=ESCALA, fy=ESCALA, interpolation = cv.INTER_CUBIC)\n",
    "        \n",
    "        # obtenção da resolução das imagens original e redimensionada\n",
    "        altura,largura,camadas= imagem.shape\n",
    "        alt,larg,cam= img_nova.shape\n",
    "        \n",
    "        # mostra a imagem redimensionada na janela\n",
    "        cv.imshow('VIDEO',img_nova)\n",
    "    \n",
    "        # Temporização: aguarda o proximo quadro durante (1/QPS) segundos\n",
    "        # exemplo: se QPS= 25 fps, tempo de espera = 40 ms\n",
    "        time.sleep(1/QPS)\n",
    "    \n",
    "        if cv.waitKey(1) & 0xFF == ord('q'):\n",
    "            break\n",
    "    else:\n",
    "        break\n",
    "        \n",
    "# Fim da marcação do tempo decorrido e cálculo da diferença\n",
    "elapsed_time= time.time() - start_time\n",
    "\n",
    "# Libera o objeto de leitura e fecha a janela\n",
    "cap.release()\n",
    "cv.destroyAllWindows()\n",
    "\n",
    "# resolução original\n",
    "print(\"Resolução  original: \", largura, \" x \", altura, \" PIXELS. \")\n",
    "\n",
    "# resolução após redimensionalmento da imagem\n",
    "print(\"Resolução modificada: \", larg, \" x \", alt, \" PIXELS. \")\n",
    "\n",
    "# tempo decorrido na exibição do video\n",
    "print(\"Tempo total: %.2f segundos.\" % elapsed_time)"
   ]
  },
  {
   "cell_type": "markdown",
   "metadata": {},
   "source": [
    "### <font color='red'>3. Gravação de video em arquivo:</font>\n",
    "\n",
    "* Esse código realiza a leitura de imagens, mostra a sequência na janela, e salva essa sequência num arquivo no formato **mp4** de video."
   ]
  },
  {
   "cell_type": "code",
   "execution_count": 27,
   "metadata": {
    "ExecuteTime": {
     "end_time": "2019-10-16T23:06:52.862053Z",
     "start_time": "2019-10-16T23:06:43.909553Z"
    }
   },
   "outputs": [],
   "source": [
    "import numpy as np\n",
    "import cv2 as cv\n",
    "\n",
    "# Digite a largura e altura do video\n",
    "LARG= 640\n",
    "ALT= 360\n",
    "# Digite a escala desejada\n",
    "ESCALA = 0.25\n",
    "\n",
    "# Calculo da nova resolução da imagem\n",
    "width= round(LARG * ESCALA)\n",
    "height= round(ALT * ESCALA)\n",
    "# QPS = taxa do video. Digite o valor\n",
    "QPS =  25.0\n",
    "\n",
    "# Indique o arquivo de video a ser lido\n",
    "cap = cv.VideoCapture('big_buck_bunny.mp4')\n",
    "\n",
    "# ------------------------------------------------------------ #\n",
    "# Estes comandos definem o codec e cria o objeto de gravar video\n",
    "# Indique o arquivo mp4 a ser criado\n",
    "fourcc = cv.VideoWriter_fourcc(*'MP4V')\n",
    "out = cv.VideoWriter('saidavideo.mp4',fourcc, QPS, (width,height))\n",
    "# ------------------------------------------------------------ #\n",
    "\n",
    "while(True):\n",
    "    # leitura da imagem\n",
    "    ret, frame = cap.read()\n",
    "    \n",
    "    if ret==True:\n",
    "        # redimensiona a imagem multimplicando a largura e altura pela Escala\n",
    "        frame2 = cv.resize(frame,None,fx=ESCALA, fy=ESCALA, interpolation = cv.INTER_CUBIC)\n",
    "        \n",
    "        # salva a imagem modificada\n",
    "        out.write(frame2)\n",
    "        \n",
    "        # mostra a imagem redimensionada na janela\n",
    "        cv.imshow('VIDEO redimensionado',frame2) \n",
    "        \n",
    "\n",
    "        if cv.waitKey(1) & 0xFF == ord('q'):\n",
    "            break\n",
    "    \n",
    "    else:\n",
    "        break\n",
    "        \n",
    "# libera os objetos e fecha a janela\n",
    "cap.release()\n",
    "out.release()\n",
    "cv.destroyAllWindows()"
   ]
  },
  {
   "cell_type": "markdown",
   "metadata": {},
   "source": [
    "## <font color='blue'><u>**Atividades em Aula - Parte 02**</u></font>"
   ]
  },
  {
   "cell_type": "markdown",
   "metadata": {},
   "source": [
    "### <font color='red'>1. Obtenção de videos:</font>\n",
    "\n",
    "(a) Obtenha dois videos de você mesmo, com fundo claro e boa iluminação, com aprox. 10 (dez) segundos de duração cada.\n",
    "\n",
    "a.1. O primeiro video com movimentos em geral.\n",
    "\n",
    "a.2. O segundo video com movimentos mais rápidos que o primeiro.\n",
    "\n",
    "(b) Salve os videos na mesma pasta dos demais arquivos deste roteiro.\n",
    "\n"
   ]
  },
  {
   "cell_type": "markdown",
   "metadata": {},
   "source": [
    "### <font color='red'>2. Modificação dos videos:</font>\n",
    "\n",
    "(c) Elaborar um novo programa, re-utilizando os codigos estudados na **Parte 01**, com os seguintes objetivos:\n",
    "\n",
    "\n",
    "c.1. Executar o primeiro video na resolução original e na taxa original.\n",
    "\n",
    "c.2. Executar o segundo video numa resolução maior e noutra resolução menor que a original.\n",
    "\n",
    "c.3. Executar o primeiro video numa taxa de quadros maior e noutra taxa de quadros menos que a taxa original.\n",
    "\n",
    "c.4. Salvar o segundo video com resolução menor que a original e com taxa de quadros maior que a taxa original.\n",
    "\n",
    "(d) Anotar os resultados obtidos de todos os parametros para todos casos acima (taxa de quadros, resolução, tempo de execução).\n"
   ]
  },
  {
   "cell_type": "markdown",
   "metadata": {},
   "source": [
    "#### c.1"
   ]
  },
  {
   "cell_type": "code",
   "execution_count": 11,
   "metadata": {
    "ExecuteTime": {
     "end_time": "2019-10-16T22:44:10.882053Z",
     "start_time": "2019-10-16T22:43:41.947053Z"
    }
   },
   "outputs": [
    {
     "name": "stdout",
     "output_type": "stream",
     "text": [
      "Resolução  original:  1920  x  1080  PIXELS. \n"
     ]
    }
   ],
   "source": [
    "import time\n",
    "import numpy as np\n",
    "import cv2 as cv\n",
    "\n",
    "# QPS = taxa do video. Digite o valor\n",
    "QPS =  25\n",
    "\n",
    "# Escala da resolução do video\n",
    "ESCALA = 1\n",
    "\n",
    "# Objeto que indica o arquivo de video a ser lido\n",
    "cap = cv.VideoCapture('Video_1.mp4')\n",
    "\n",
    "# Inicia a marcação de tempo\n",
    "start_time = time.time()\n",
    "\n",
    "while(cap.isOpened()):\n",
    "    # leitura da imagem no video\n",
    "    ret, imagem = cap.read()\n",
    "    \n",
    "    if ret==True:\n",
    "        # obtenção da resolução das imagens original\n",
    "        altura,largura,camadas= imagem.shape\n",
    "        # mostra a imagem na janela\n",
    "        cv.imshow('Video_1',imagem)\n",
    "    \n",
    "        # Temporização: aguarda o proximo quadro durante (1/QPS) segundos\n",
    "        # exemplo: se QPS= 25 fps, tempo de espera = 40 ms\n",
    "        time.sleep(1/QPS)\n",
    "    \n",
    "        if cv.waitKey(1) & 0xFF == ord('q'):\n",
    "            break\n",
    "    else:\n",
    "        break\n",
    "        \n",
    "cap.release()\n",
    "out.release()\n",
    "cv.destroyAllWindows()\n",
    "\n",
    "# resolução original\n",
    "print(\"Resolução  original: \", largura, \" x \", altura, \" PIXELS. \")"
   ]
  },
  {
   "cell_type": "markdown",
   "metadata": {},
   "source": [
    "#### c.2 - Resolução menor"
   ]
  },
  {
   "cell_type": "code",
   "execution_count": 35,
   "metadata": {
    "ExecuteTime": {
     "end_time": "2019-10-17T01:21:07.696500Z",
     "start_time": "2019-10-17T01:21:00.916500Z"
    }
   },
   "outputs": [
    {
     "name": "stdout",
     "output_type": "stream",
     "text": [
      "Resolução:  192  x  108  PIXELS. \n"
     ]
    }
   ],
   "source": [
    "import numpy as np\n",
    "import cv2 as cv\n",
    "\n",
    "# QPS = taxa do video. Digite o valor\n",
    "QPS =  25\n",
    "\n",
    "ESCALA = 0.1\n",
    "\n",
    "# Indique o arquivo de video a ser lido\n",
    "cap = cv.VideoCapture('Video_2.mp4')\n",
    "\n",
    "while(True):\n",
    "    # leitura da imagem\n",
    "    ret, frame = cap.read()\n",
    "    if ret==True:\n",
    "        # redimensiona a imagem multimplicando a largura e altura pela Escala\n",
    "        frame2 = cv.resize(frame,None,fx=ESCALA, fy=ESCALA, interpolation = cv.INTER_CUBIC)\n",
    "        altura,largura,camadas= frame2.shape\n",
    "        # salva a imagem modificada\n",
    "        out.write(frame2)\n",
    "        \n",
    "        # mostra a imagem redimensionada na janela\n",
    "        cv.imshow('VIDEO redimensionado',frame2) \n",
    "        \n",
    "\n",
    "        if cv.waitKey(1) & 0xFF == ord('q'):\n",
    "            break\n",
    "    \n",
    "    else:\n",
    "        break\n",
    "        \n",
    "# libera os objetos e fecha a janela\n",
    "cap.release()\n",
    "out.release()\n",
    "cv.destroyAllWindows()\n",
    "\n",
    "\n",
    "# resolução atual\n",
    "print(\"Resolução: \", largura, \" x \", altura, \" PIXELS. \")"
   ]
  },
  {
   "cell_type": "markdown",
   "metadata": {},
   "source": [
    "#### c.2 - Resolução maior"
   ]
  },
  {
   "cell_type": "code",
   "execution_count": 44,
   "metadata": {
    "ExecuteTime": {
     "end_time": "2019-10-17T01:42:38.556500Z",
     "start_time": "2019-10-17T01:42:21.626500Z"
    }
   },
   "outputs": [
    {
     "name": "stdout",
     "output_type": "stream",
     "text": [
      "Resolução:  2880  x  1620  PIXELS. \n"
     ]
    }
   ],
   "source": [
    "import numpy as np\n",
    "import cv2 as cv\n",
    "\n",
    "# QPS = taxa do video. Digite o valor\n",
    "QPS =  25.0\n",
    "\n",
    "ESCALA = 1.5\n",
    "\n",
    "# Indique o arquivo de video a ser lido\n",
    "cap = cv.VideoCapture('Video_2.mp4')\n",
    "\n",
    "while(cap.isOpened()):\n",
    "    # leitura da imagem\n",
    "    ret, frame = cap.read()\n",
    "    \n",
    "    if ret==True:\n",
    "        # redimensiona a imagem multimplicando a largura e altura pela Escala\n",
    "        frame2 = cv.resize(frame,None,fx=ESCALA, fy=ESCALA, interpolation = cv.INTER_CUBIC)\n",
    "        altura,largura,camadas= frame2.shape\n",
    "        \n",
    "        # salva a imagem modificada\n",
    "        out.write(frame2)\n",
    "        \n",
    "        # mostra a imagem redimensionada na janela\n",
    "        cv.imshow('VIDEO redimensionado',frame2) \n",
    "        \n",
    "\n",
    "        if cv.waitKey(1) & 0xFF == ord('q'):\n",
    "            break\n",
    "    \n",
    "    else:\n",
    "        break\n",
    "        \n",
    "# libera os objetos e fecha a janela\n",
    "cap.release()\n",
    "out.release()\n",
    "cv.destroyAllWindows()\n",
    "\n",
    "print(\"Resolução: \", largura, \" x \", altura, \" PIXELS. \")"
   ]
  },
  {
   "cell_type": "markdown",
   "metadata": {},
   "source": [
    "#### c.3 - Taxa maior"
   ]
  },
  {
   "cell_type": "code",
   "execution_count": 39,
   "metadata": {
    "ExecuteTime": {
     "end_time": "2019-10-17T01:26:56.006500Z",
     "start_time": "2019-10-17T01:26:41.816500Z"
    }
   },
   "outputs": [],
   "source": [
    "import time\n",
    "import numpy as np\n",
    "import cv2 as cv\n",
    "\n",
    "# QPS = taxa do video. Digite o valor\n",
    "QPS =  400\n",
    "\n",
    "# Escala da resolução do video\n",
    "ESCALA = 1\n",
    "\n",
    "# Objeto que indica o arquivo de video a ser lido\n",
    "cap = cv.VideoCapture('Video_1.mp4')\n",
    "\n",
    "# Inicia a marcação de tempo\n",
    "start_time = time.time()\n",
    "\n",
    "while(cap.isOpened()):\n",
    "    # leitura da imagem no video\n",
    "    ret, imagem = cap.read()\n",
    "    \n",
    "    if ret==True:\n",
    "        # obtenção da resolução das imagens original\n",
    "        altura,largura,camadas= imagem.shape\n",
    "        # mostra a imagem na janela\n",
    "        cv.imshow('Video_1',imagem)\n",
    "    \n",
    "        # Temporização: aguarda o proximo quadro durante (1/QPS) segundos\n",
    "        # exemplo: se QPS= 25 fps, tempo de espera = 40 ms\n",
    "        time.sleep(1/QPS)\n",
    "    \n",
    "        if cv.waitKey(1) & 0xFF == ord('q'):\n",
    "            break\n",
    "    else:\n",
    "        break\n",
    "        \n",
    "cap.release()\n",
    "out.release()\n",
    "cv.destroyAllWindows()"
   ]
  },
  {
   "cell_type": "markdown",
   "metadata": {},
   "source": [
    "#### c.3 - Taxa menor"
   ]
  },
  {
   "cell_type": "code",
   "execution_count": 40,
   "metadata": {
    "ExecuteTime": {
     "end_time": "2019-10-17T01:27:53.181500Z",
     "start_time": "2019-10-17T01:27:39.106500Z"
    }
   },
   "outputs": [],
   "source": [
    "import time\n",
    "import numpy as np\n",
    "import cv2 as cv\n",
    "\n",
    "# QPS = taxa do video. Digite o valor\n",
    "QPS =  10\n",
    "\n",
    "# Escala da resolução do video\n",
    "ESCALA = 1\n",
    "\n",
    "# Objeto que indica o arquivo de video a ser lido\n",
    "cap = cv.VideoCapture('Video_1.mp4')\n",
    "\n",
    "# Inicia a marcação de tempo\n",
    "start_time = time.time()\n",
    "\n",
    "while(cap.isOpened()):\n",
    "    # leitura da imagem no video\n",
    "    ret, imagem = cap.read()\n",
    "    \n",
    "    if ret==True:\n",
    "        # obtenção da resolução das imagens original\n",
    "        altura,largura,camadas= imagem.shape\n",
    "        # mostra a imagem na janela\n",
    "        cv.imshow('Video_1',imagem)\n",
    "    \n",
    "        # Temporização: aguarda o proximo quadro durante (1/QPS) segundos\n",
    "        # exemplo: se QPS= 25 fps, tempo de espera = 40 ms\n",
    "        time.sleep(1/QPS)\n",
    "    \n",
    "        if cv.waitKey(1) & 0xFF == ord('q'):\n",
    "            break\n",
    "    else:\n",
    "        break\n",
    "        \n",
    "cap.release()\n",
    "out.release()\n",
    "cv.destroyAllWindows()"
   ]
  },
  {
   "cell_type": "markdown",
   "metadata": {},
   "source": [
    "#### c.4 - Taxa maior, resolução menor e salvando novo vídeo"
   ]
  },
  {
   "cell_type": "code",
   "execution_count": 49,
   "metadata": {
    "ExecuteTime": {
     "end_time": "2019-10-17T01:48:33.413500Z",
     "start_time": "2019-10-17T01:48:24.171000Z"
    }
   },
   "outputs": [],
   "source": [
    "import time\n",
    "import numpy as np\n",
    "import cv2 as cv\n",
    "\n",
    "# Objeto que indica o arquivo de video a ser lido\n",
    "cap = cv.VideoCapture('Video_1.mp4')\n",
    "ret, frame = cap.read()\n",
    "ALT,LARG,camadas= frame.shape\n",
    "\n",
    "# Digite a escala desejada\n",
    "ESCALA = 0.25\n",
    "\n",
    "# QPS = taxa do video. Digite o valor\n",
    "QPS =  60.0\n",
    "\n",
    "# Calculo da nova resolução da imagem\n",
    "width= round(LARG * ESCALA)\n",
    "height= round(ALT * ESCALA)\n",
    "\n",
    "# ------------------------------------------------------------ #\n",
    "# Estes comandos definem o codec e cria o objeto de gravar video\n",
    "# Indique o arquivo mp4 a ser criado\n",
    "fourcc = cv.VideoWriter_fourcc(*'MP4V')\n",
    "out = cv.VideoWriter('lab_redimensionado.mp4',fourcc, QPS, (width,height))\n",
    "# ------------------------------------------------------------ #\n",
    "\n",
    "while(True):\n",
    "    # leitura da imagem\n",
    "    ret, frame = cap.read()\n",
    "    \n",
    "    if ret==True:\n",
    "        # redimensiona a imagem multimplicando a largura e altura pela Escala\n",
    "        frame2 = cv.resize(frame,None,fx=ESCALA, fy=ESCALA, interpolation = cv.INTER_CUBIC)\n",
    "        \n",
    "        # salva a imagem modificada\n",
    "        out.write(frame2)\n",
    "        \n",
    "        # mostra a imagem redimensionada na janela\n",
    "        cv.imshow('Video_lab_redimensionado',frame2) \n",
    "        \n",
    "\n",
    "        if cv.waitKey(1) & 0xFF == ord('q'):\n",
    "            break\n",
    "    \n",
    "    else:\n",
    "        break\n",
    "        \n",
    "# libera os objetos e fecha a janela\n",
    "cap.release()\n",
    "out.release()\n",
    "cv.destroyAllWindows()"
   ]
  },
  {
   "cell_type": "markdown",
   "metadata": {},
   "source": [
    "### <font color='red'>3. Elaborar o relatório das atividades práticas, no formato HTML5:</font>\n",
    "\n",
    "(e) Descreva todos os procedimentos realizados.\n",
    "\n",
    "(f) Disponibilize o código elaborado na forma de arquivo **.ipynb**, e coloque o \"link\" para o mesmo no relatório html5.\n",
    "\n",
    "(g) Insira os videos salvos no item (d), na forma multimídia do relatório html5.\n",
    "\n",
    "(h) Envie os arquivos na pasta disponibilizada.\n"
   ]
  },
  {
   "cell_type": "markdown",
   "metadata": {},
   "source": [
    "\n",
    "### Referências\n",
    "MINICHINO, J., HOWSE, J.. Learning OpenCV 3 Computer Vision with Python, 2nd Edition, Packt Publishing, 2015.\n",
    "\n",
    "Tutorial: OpenCV-Python Tutorials https://docs.opencv.org/3.4.1/d6/d00/tutorial_py_root.html\n",
    "\n",
    "Tutorial: Getting Started with Images https://docs.opencv.org/3.4.1/dc/d2e/tutorial_py_image_display.html"
   ]
  },
  {
   "cell_type": "markdown",
   "metadata": {},
   "source": [
    "* Insira novas referencia, caso tenha utilizado."
   ]
  }
 ],
 "metadata": {
  "kernelspec": {
   "display_name": "Python 3",
   "language": "python",
   "name": "python3"
  },
  "language_info": {
   "codemirror_mode": {
    "name": "ipython",
    "version": 3
   },
   "file_extension": ".py",
   "mimetype": "text/x-python",
   "name": "python",
   "nbconvert_exporter": "python",
   "pygments_lexer": "ipython3",
   "version": "3.7.2"
  },
  "toc": {
   "base_numbering": 1,
   "nav_menu": {},
   "number_sections": true,
   "sideBar": true,
   "skip_h1_title": false,
   "title_cell": "Table of Contents",
   "title_sidebar": "Contents",
   "toc_cell": false,
   "toc_position": {},
   "toc_section_display": true,
   "toc_window_display": false
  }
 },
 "nbformat": 4,
 "nbformat_minor": 2
}
